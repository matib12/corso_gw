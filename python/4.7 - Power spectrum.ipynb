{
 "cells": [
  {
   "cell_type": "markdown",
   "metadata": {},
   "source": [
    "<h1>Power spectrum from FFT</h1>\n",
    "<p>This example shows how to obtain a power spectrum from the FFT analysis of a timeseries.</p>"
   ]
  },
  {
   "cell_type": "code",
   "execution_count": null,
   "metadata": {},
   "outputs": [],
   "source": [
    "#Import necessary libraries\n",
    "\n",
    "import numpy as np\n",
    "np.set_printoptions(precision=2, suppress=True)  # for compact output\n",
    "\n",
    "import matplotlib.pyplot as plt"
   ]
  },
  {
   "cell_type": "markdown",
   "metadata": {},
   "source": [
    "## 1. Generate signals we want to analyse.\n",
    "\n",
    "We choose two sinusoidal signals of frequencies <i>frequency1</i> and <i>frequency2</i> sampled <i>N</i> times with sampling frequency <i>Fs</i>. For both signals we specify their Root Mean Squared voltage."
   ]
  },
  {
   "cell_type": "code",
   "execution_count": null,
   "metadata": {},
   "outputs": [],
   "source": [
    "N = 512                     # Number of samples\n",
    "Fs = 1000                   # Sampling frequency\n",
    "Vrms = 0.7071               # Vrms\n",
    "Vmax = np.sqrt(2.)*Vrms     # Conversion to amplitude\n",
    "\n",
    "time = np.linspace(0, N/Fs, N)  # Generate 1024 time labels between 0 and 1 second.\n",
    "\n",
    "frequency1 = 100 # Hz\n",
    "frequency2 = 16  # Hz\n",
    "\n",
    "our_signal = Vmax * np.sin(2*np.pi*frequency1*time) + Vmax*np.sin(2*np.pi*frequency2*time)       # Generate 1024 samples of the sinusoidal signal.\n",
    "\n",
    "plt.plot(time, our_signal)       # Plot the signal (Note: the frequency 16Hz)"
   ]
  },
  {
   "cell_type": "markdown",
   "metadata": {},
   "source": [
    "## 4. Perform Fast Fourier Transform using function form the SciPy library\n",
    "\n",
    "The frequency term f=k/n is found at y[k]. At y[n/2] we reach the Nyquist frequency and wrap around to the negative-frequency terms. So, for an 8-point transform, the frequencies of the result are [0, 1, 2, 3, -4, -3, -2, -1]. To rearrange the fft output so that the zero-frequency component is centered, like [-4, -3, -2, -1, 0, 1, 2, 3], use fftshift."
   ]
  },
  {
   "cell_type": "code",
   "execution_count": null,
   "metadata": {},
   "outputs": [],
   "source": [
    "from scipy.fftpack import fft, fftfreq, fftshift\n",
    "\n",
    "fft = fft(our_signal,n=N)\n",
    "\n",
    "fft = fft[1:int(N/2+1)]  # Take just positive frequencies (see jupyter 4-Discrete Fourier Transform)\n",
    "\n",
    "freq = np.fft.fftfreq(N, d=1/Fs)\n",
    "\n",
    "psd = (1/(Fs*N)) * np.power(np.abs(fft), 2)\n",
    "psd2 = 2*psd"
   ]
  },
  {
   "cell_type": "markdown",
   "metadata": {},
   "source": [
    "## 5. Plot the result\n",
    "\n",
    "Note that the two peaks in the spectrum beneath conicide with the two frequencies of contributing signals."
   ]
  },
  {
   "cell_type": "code",
   "execution_count": null,
   "metadata": {},
   "outputs": [],
   "source": [
    "plt.xlabel('frequency [Hz]')\n",
    "plt.ylabel('PSD [V**2/Hz]')\n",
    "plt.semilogy(freq[0:int(N/2)], psd2)"
   ]
  },
  {
   "cell_type": "markdown",
   "metadata": {},
   "source": [
    "## 6. Power analysis\n",
    "\n",
    "We analysed a signal composed of two sinusoids. From the spectrum above we can extract frequencies of the components. Let us analyse the peak on the left. First we zoom it in and then integrate the area below the peak. We use trapz function from the scipy library."
   ]
  },
  {
   "cell_type": "code",
   "execution_count": null,
   "metadata": {},
   "outputs": [],
   "source": [
    "window_start = 5\n",
    "window_end = 11\n",
    "\n",
    "plt.semilogy(freq[0:int(N/2)][window_start:window_end], psd2[window_start:window_end])\n",
    "\n",
    "fft_integr = np.trapz(psd2[window_start:window_end], x=freq[0:int(N/2)][window_start:window_end])\n",
    "\n",
    "print(\"Integrated area between \" + str(freq[window_start]) + \" and \" + str(freq[window_end]) + \" Hz: \"+ str(fft_integr))"
   ]
  },
  {
   "cell_type": "markdown",
   "metadata": {},
   "source": [
    "The integral of the power spectrum in the specified frequency band is proportional to the power of contributiong frequencies.\n",
    "\n",
    "We are close enough."
   ]
  },
  {
   "cell_type": "code",
   "execution_count": null,
   "metadata": {},
   "outputs": [],
   "source": [
    "print(\"measured Vrms = \" + str(round(np.sqrt(fft_integr),4)))\n",
    "print(\"signal was generated with Vrms = \" + str(Vrms))"
   ]
  },
  {
   "cell_type": "markdown",
   "metadata": {},
   "source": [
    "# 7. Comparision with periodigram\n",
    "\n",
    "Scipy library provides a comfortable function for power spectral density estimation from sampled data. Its result should be the same to the FFT analysis.\n",
    "\n",
    "Let us compare its results for the same data we processed above."
   ]
  },
  {
   "cell_type": "code",
   "execution_count": null,
   "metadata": {},
   "outputs": [],
   "source": [
    "from scipy import signal\n",
    "\n",
    "f, per = signal.periodogram(our_signal, Fs)  # Function returns two arguments\n",
    "\n",
    "plt.xlabel('frequency [Hz]')\n",
    "plt.ylabel('PSD [V**2/Hz]')\n",
    "plt.semilogy(f[1:-1], per[1:-1])"
   ]
  },
  {
   "cell_type": "code",
   "execution_count": null,
   "metadata": {},
   "outputs": [],
   "source": [
    "plt.semilogy(freq[0:int(N/2)][window_start:window_end], psd2[window_start:window_end])\n",
    "\n",
    "per_integr = np.trapz(per[window_start:window_end], x=freq[0:int(N/2)][window_start:window_end])\n",
    "\n",
    "print(\"Integrated area between \" + str(round(f[window_start],2)) + \" and \" + str(round(f[window_end],2)) + \" Hz: \"+ str(round(per_integr,2)) + \"V^2\")"
   ]
  },
  {
   "cell_type": "code",
   "execution_count": null,
   "metadata": {},
   "outputs": [],
   "source": [
    "print(\"measured Vrms = \" + str(round(np.sqrt(per_integr),4)))\n",
    "print(\"signal was generated with Vrms = \" + str(Vrms))"
   ]
  },
  {
   "cell_type": "markdown",
   "metadata": {},
   "source": [
    "Note a slight difference between the two methods.\n",
    "\n",
    "We are close enough!"
   ]
  },
  {
   "cell_type": "markdown",
   "metadata": {},
   "source": [
    "# Play with parameters to understand better the undelying mechanism!"
   ]
  },
  {
   "cell_type": "code",
   "execution_count": null,
   "metadata": {},
   "outputs": [],
   "source": []
  }
 ],
 "metadata": {
  "authors": [
   {
    "name": "Mateusz Bawaj"
   }
  ],
  "kernelspec": {
   "display_name": "Python [conda env:corsonde_phd] *",
   "language": "python",
   "name": "conda-env-corsonde_phd-py"
  },
  "language_info": {
   "codemirror_mode": {
    "name": "ipython",
    "version": 3
   },
   "file_extension": ".py",
   "mimetype": "text/x-python",
   "name": "python",
   "nbconvert_exporter": "python",
   "pygments_lexer": "ipython3",
   "version": "3.8.16"
  }
 },
 "nbformat": 4,
 "nbformat_minor": 4
}
