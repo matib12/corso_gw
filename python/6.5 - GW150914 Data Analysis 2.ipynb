{
 "cells": [
  {
   "cell_type": "markdown",
   "metadata": {},
   "source": [
    "# Data analysis of GW150914\n",
    "\n",
    "Download calibrated data timeseries from LIGO Hanford and Livingston observatories using gwpy."
   ]
  },
  {
   "cell_type": "code",
   "execution_count": null,
   "metadata": {},
   "outputs": [],
   "source": [
    "from gwpy.timeseries import TimeSeries\n",
    "h1 = TimeSeries.fetch_open_data('H1', 1126259457, 1126259467)\n",
    "#l1 = TimeSeries.fetch_open_data('L1', 1126259457, 1126259467)\n",
    "\n",
    "h1b = h1.bandpass(50,250).notch(60).notch(120)\n",
    "#l1b = l1.bandpass(50,250).notch(60).notch(120)"
   ]
  },
  {
   "cell_type": "markdown",
   "metadata": {},
   "source": [
    "## 1. Prepare the waveform.\n",
    "\n",
    "Prepare the template accordingly to parameters of the GW150914 event in the gw-openscience.org database:\n",
    "\n",
    "https://www.gw-openscience.org/events/GW150914/\n",
    "\n",
    "In the coalescence participated two black holes with masses:\n",
    "\n",
    "m1 = 36.2 Ms\n",
    "\n",
    "m2 = 29.1 Ms\n",
    "\n",
    "Pay attantion to the right sampling of the template!"
   ]
  },
  {
   "cell_type": "code",
   "execution_count": null,
   "metadata": {},
   "outputs": [],
   "source": [
    "# Import necessary libraries.\n",
    "%matplotlib inline\n",
    "\n",
    "from pycbc.waveform import get_td_waveform\n",
    "import pylab"
   ]
  },
  {
   "cell_type": "code",
   "execution_count": null,
   "metadata": {},
   "outputs": [],
   "source": [
    "#h1b.to_pycbc()\n",
    "\n",
    "hp, hc = get_td_waveform(approximant=\"SEOBNRv4_opt\",\n",
    "                         mass1=36.2,\n",
    "                         mass2=29.1,\n",
    "                         delta_t=h1b.dt.value,\n",
    "                         f_lower=30,\n",
    "                         distance=420)"
   ]
  },
  {
   "cell_type": "code",
   "execution_count": null,
   "metadata": {},
   "outputs": [],
   "source": [
    "pylab.plot(hp.sample_times, hp, label='Plus Polarization')\n",
    "pylab.plot(hp.sample_times, hc, label='Cross Polarization')\n",
    "pylab.xlabel('Time (s)')\n",
    "#pylab.xlim(-.05, .01)\n",
    "pylab.legend()\n",
    "pylab.grid()\n",
    "pylab.show()"
   ]
  },
  {
   "cell_type": "markdown",
   "metadata": {},
   "source": [
    "## 2. Apply the matched filter."
   ]
  },
  {
   "cell_type": "code",
   "execution_count": null,
   "metadata": {},
   "outputs": [],
   "source": [
    "from astropy import units as u\n",
    "\n",
    "p_template = TimeSeries(hp, dt=hp.delta_t)\n",
    "c_template = TimeSeries(hc, dt=hc.delta_t)\n",
    "\n",
    "# Remove time corrupted by the template filter: 1s from the beginning and 1s from the end.\n",
    "\n",
    "h1b.correlate(p_template).abs().crop(h1b.times[0]+1*u.s, h1b.times[-1]-1*u.s).plot(ylabel=\"Matched filter\", title='LIGO-Hanford', color='gwpy:ligo-hanford')\n",
    "#l1b.correlate(p_template).plot(ylabel=\"Matched filter\", title='LIGO-Livingston', color='gwpy:ligo-livingston')"
   ]
  },
  {
   "cell_type": "markdown",
   "metadata": {},
   "source": [
    "## 3. Apply matched filter directly to raw data.\n",
    "Matched filter is not a universal solution. When it is applied direclty to raw data is does not bring any advantage."
   ]
  },
  {
   "cell_type": "code",
   "execution_count": null,
   "metadata": {},
   "outputs": [],
   "source": [
    "h1.correlate(p_template).plot(ylabel=\"Matched filter\", title='LIGO-Hanford', color='gwpy:ligo-hanford')\n",
    "h1.plot(ylabel='Strain noise', title='LIGO-Hanford')"
   ]
  },
  {
   "cell_type": "code",
   "execution_count": null,
   "metadata": {},
   "outputs": [],
   "source": []
  }
 ],
 "metadata": {
  "kernelspec": {
   "display_name": "Python [conda env:corsonde_phd] *",
   "language": "python",
   "name": "conda-env-corsonde_phd-py"
  },
  "language_info": {
   "codemirror_mode": {
    "name": "ipython",
    "version": 3
   },
   "file_extension": ".py",
   "mimetype": "text/x-python",
   "name": "python",
   "nbconvert_exporter": "python",
   "pygments_lexer": "ipython3",
   "version": "3.8.16"
  }
 },
 "nbformat": 4,
 "nbformat_minor": 4
}
