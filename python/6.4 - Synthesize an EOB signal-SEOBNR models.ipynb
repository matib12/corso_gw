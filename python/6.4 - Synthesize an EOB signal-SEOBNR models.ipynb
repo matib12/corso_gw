{
 "cells": [
  {
   "cell_type": "markdown",
   "metadata": {},
   "source": [
    "# Synthesize waveforms modeled by SEOBNR approximations\n",
    "\n",
    "Use PyCBC library which provides a variety of models.<br>\n",
    "Attention: PyCBC uses LAL to calculate models. In case of doubts search also in the LAL library documentation."
   ]
  },
  {
   "cell_type": "code",
   "execution_count": null,
   "metadata": {},
   "outputs": [],
   "source": [
    "#http://pycbc.org/pycbc/latest/html/waveform.html?highlight=seobnrv4hm\n",
    "\n",
    "# Import necessary libraries.\n",
    "%matplotlib inline\n",
    "\n",
    "from pycbc.waveform import get_td_waveform\n",
    "import pycbc.waveform\n",
    "import pylab\n",
    "pylab.rcParams['figure.dpi'] = 200\n",
    "import numpy as np"
   ]
  },
  {
   "cell_type": "markdown",
   "metadata": {},
   "source": [
    "## 1. Generate waveforms for the same binary system using different models\n",
    "\n",
    "For a binary system $m_1 = 14 M_\\odot$, $m_2 = 190 M_\\odot$ \n",
    "\n",
    "The output of this function are the \"plus\" and \"cross\" polarizations of the gravitational-wave signal as viewed from the line of sight at a given source inclination (assumed face-on if not provided)"
   ]
  },
  {
   "cell_type": "code",
   "execution_count": null,
   "metadata": {},
   "outputs": [],
   "source": [
    "pycbc.waveform.waveform._lalsim_enum\n",
    "apx = [\"SEOBNRv2\", \"SEOBNRv4\", \"SEOBNRv4HM\"]\n",
    "#apx = [\"SEOBNRv4\", \"SEOBNRv4HM\"]\n",
    "wfm = [\"SEOBNRv4HM\"]\n",
    "\n",
    "for i, a in enumerate(apx, start=0):\n",
    "    wfm.append(get_td_waveform(approximant=a,                         \n",
    "                         mass1=190,\n",
    "                         mass2=14,\n",
    "                         spin1x=0,  # For v4HM Must be zero lalsimulation/lib/LALSimInspiral.c\n",
    "                         spin1y=0,  # Must be zero\n",
    "                         spin1z=0.5,\n",
    "                         spin2x=0,  # Must be zero\n",
    "                         spin2y=0,  # Must be zero\n",
    "                         spin2z=0,\n",
    "                         distance=40,\n",
    "                         coa_phase=1.2,\n",
    "                         inclination=90,\n",
    "                         long_asc_nodes=0,\n",
    "                         eccentricity=0,\n",
    "                         mean_per_ano=0,\n",
    "                         delta_t=1.0/4096,\n",
    "                         f_lower=25\n",
    "                        ))"
   ]
  },
  {
   "cell_type": "code",
   "execution_count": null,
   "metadata": {},
   "outputs": [],
   "source": [
    "pycbc.waveform.waveform._lalsim_enum\n",
    "#apx = [\"SEOBNRv2\", \"SEOBNRv4\", \"SEOBNRv4HM\"]\n",
    "#apx = [\"SEOBNRv4\", \"SEOBNRv4HM\"]\n",
    "apx = [\"SEOBNRv4HM\"]\n",
    "wfm = []\n",
    "\n",
    "for i, a in enumerate(apx, start=0):\n",
    "    wfm.append(get_td_waveform(approximant=a,                         \n",
    "                         mass1=190,\n",
    "                         mass2=23.75,\n",
    "                         spin1x=0,  # For v4HM Must be zero lalsimulation/lib/LALSimInspiral.c\n",
    "                         spin1y=0,  # Must be zero\n",
    "                         spin1z=0.5,\n",
    "                         spin2x=0,  # Must be zero\n",
    "                         spin2y=0,  # Must be zero\n",
    "                         spin2z=0,\n",
    "                         distance=40,\n",
    "                         coa_phase=1.2,\n",
    "                         inclination=90,\n",
    "                         long_asc_nodes=0,\n",
    "                         eccentricity=0,\n",
    "                         mean_per_ano=0,\n",
    "                         delta_t=1.0/4096,\n",
    "                         f_lower=25\n",
    "                        ))\n",
    "    pylab.plot(wfm[0][0].sample_times/(190+23.75), wfm[0][0])\n",
    "    wfm.append(get_td_waveform(approximant=a,                         \n",
    "                         mass1=95,\n",
    "                         mass2=11.875,\n",
    "                         spin1x=0,  # For v4HM Must be zero lalsimulation/lib/LALSimInspiral.c\n",
    "                         spin1y=0,  # Must be zero\n",
    "                         spin1z=0.5,\n",
    "                         spin2x=0,  # Must be zero\n",
    "                         spin2y=0,  # Must be zero\n",
    "                         spin2z=0,\n",
    "                         distance=40,\n",
    "                         coa_phase=1.2,\n",
    "                         inclination=90,\n",
    "                         long_asc_nodes=0,\n",
    "                         eccentricity=0,\n",
    "                         mean_per_ano=0,\n",
    "                         delta_t=1.0/4096,\n",
    "                         f_lower=25\n",
    "                        ))\n",
    "    pylab.plot(wfm[0][0].sample_times/((95+11.875)*2.05), wfm[0][0])"
   ]
  },
  {
   "cell_type": "code",
   "execution_count": null,
   "metadata": {},
   "outputs": [],
   "source": [
    "for i, model in enumerate(wfm, start=0):\n",
    "    hp = model[0]\n",
    "    #hc = model[1]\n",
    "    pylab.plot(hp.sample_times, hp)\n",
    "    #pylab.plot(hp.sample_times, hc, label='Cross Polarization')\n",
    "pylab.xlabel('Time (s)')\n",
    "#pylab.legend()\n",
    "pylab.grid()\n",
    "pylab.show()\n",
    "\n",
    "for i, model in enumerate(wfm, start=0):\n",
    "    hp = model[0]\n",
    "    pylab.plot(hp.sample_times, hp)\n",
    "    #pylab.plot(hp.sample_times, hc, label='Cross Polarization')\n",
    "pylab.xlabel('Time (s)')\n",
    "pylab.xlim(-.1, .01)\n",
    "#pylab.legend()\n",
    "pylab.grid()\n",
    "pylab.show()"
   ]
  },
  {
   "cell_type": "markdown",
   "metadata": {},
   "source": [
    "## 2. Plot the waveforms for plus and cross polarization.\n",
    "\n",
    "Zoom in the merger phase."
   ]
  },
  {
   "cell_type": "code",
   "execution_count": null,
   "metadata": {},
   "outputs": [],
   "source": [
    "for i, model in enumerate(wfm, start=0):\n",
    "    hp = model[0]\n",
    "    #hc = model[1]\n",
    "    pylab.plot(hp.sample_times, hp, label=apx[i-1])\n",
    "    #pylab.plot(hp.sample_times, hc, label='Cross Polarization')\n",
    "pylab.xlabel('Time (s)')\n",
    "pylab.legend()\n",
    "pylab.grid()\n",
    "pylab.show()\n",
    "\n",
    "for i, model in enumerate(wfm, start=0):\n",
    "    hp = model[0]\n",
    "    pylab.plot(hp.sample_times, hp, label=apx[i-1])\n",
    "    #pylab.plot(hp.sample_times, hc, label='Cross Polarization')\n",
    "pylab.xlabel('Time (s)')\n",
    "pylab.xlim(-.1, .01)\n",
    "pylab.legend()\n",
    "pylab.grid()\n",
    "pylab.show()"
   ]
  },
  {
   "cell_type": "code",
   "execution_count": null,
   "metadata": {},
   "outputs": [],
   "source": [
    "wfm[0][0].duration"
   ]
  },
  {
   "cell_type": "code",
   "execution_count": null,
   "metadata": {},
   "outputs": [],
   "source": [
    "from pycbc.psd import aLIGOZeroDetHighPower\n",
    "\n",
    "tlen = len(wfm[0][0])\n",
    "\n",
    "# Generate the aLIGO ZDHP PSD\n",
    "f_low = 30\n",
    "delta_f = 1.0 / 0.676513671875\n",
    "flen = tlen//2 + 1\n",
    "psd = aLIGOZeroDetHighPower(flen, delta_f, f_low)  # Power Spectral Density\n",
    "\n",
    "pylab.plot(np.sqrt(psd), label=\"aLIGO strain sensitivity\")  # Amplitude Spectral Density\n",
    "#https://physics.stackexchange.com/questions/615349/amplitude-spectral-density-vs-power-spectral-density\n",
    "pylab.xlim(20, flen-1)\n",
    "pylab.xscale('log')\n",
    "pylab.yscale('log')\n",
    "pylab.legend()"
   ]
  },
  {
   "cell_type": "markdown",
   "metadata": {},
   "source": [
    "## 3. Generate a library of chirp signals.\n",
    "\n",
    "Consider varying masses and distance"
   ]
  },
  {
   "cell_type": "code",
   "execution_count": null,
   "metadata": {},
   "outputs": [],
   "source": [
    "from astropy import units as u\n",
    "\n",
    "for mass in [13, 20, 80]:\n",
    "    for dist in [100, 500, 1000]:\n",
    "        hp, hc = get_td_waveform(approximant=\"SEOBNRv4HM\",\n",
    "                                 mass1=mass,\n",
    "                                 mass2=mass,\n",
    "                                 spin1x=0,  # For v4HM Must be zero lalsimulation/lib/LALSimInspiral.c\n",
    "                                 spin1y=0,  # Must be zero\n",
    "                                 spin1z=0.5,\n",
    "                                 spin2x=0,  # Must be zero\n",
    "                                 spin2y=0,  # Must be zero\n",
    "                                 spin2z=0,\n",
    "                                 distance=dist,\n",
    "                                 coa_phase=1.2,\n",
    "                                 inclination=90,\n",
    "                                 long_asc_nodes=0,\n",
    "                                 eccentricity=0,\n",
    "                                 mean_per_ano=0,\n",
    "                                 delta_t=1.0/4096,\n",
    "                                 f_lower=25)\n",
    "    \n",
    "        pylab.plot(hp.sample_times, hp, label='$Distance=%sMpc$' % dist)\n",
    "    pylab.legend()\n",
    "    pylab.grid()\n",
    "    pylab.title(\"Chipr templates for masses of \"+str(mass)+\"Ms\")\n",
    "    pylab.xlabel('Time (s)')\n",
    "    pylab.show()"
   ]
  },
  {
   "cell_type": "code",
   "execution_count": null,
   "metadata": {},
   "outputs": [],
   "source": []
  }
 ],
 "metadata": {
  "kernelspec": {
   "display_name": "Python [conda env:corsonde_phd] *",
   "language": "python",
   "name": "conda-env-corsonde_phd-py"
  },
  "language_info": {
   "codemirror_mode": {
    "name": "ipython",
    "version": 3
   },
   "file_extension": ".py",
   "mimetype": "text/x-python",
   "name": "python",
   "nbconvert_exporter": "python",
   "pygments_lexer": "ipython3",
   "version": "3.8.16"
  }
 },
 "nbformat": 4,
 "nbformat_minor": 4
}
