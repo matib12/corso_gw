{
 "cells": [
  {
   "cell_type": "markdown",
   "metadata": {},
   "source": [
    "# Transfer function\n",
    "\n",
    "Calculate and analyse transfer function of a damped mechanical oscillator."
   ]
  },
  {
   "cell_type": "code",
   "execution_count": null,
   "metadata": {},
   "outputs": [],
   "source": [
    "import numpy as np\n",
    "import matplotlib.pyplot as plt"
   ]
  },
  {
   "cell_type": "markdown",
   "metadata": {},
   "source": [
    "## 1. Oscillator parameters:"
   ]
  },
  {
   "cell_type": "code",
   "execution_count": null,
   "metadata": {},
   "outputs": [],
   "source": [
    "mass = 2\n",
    "k_const = .55\n",
    "attenuation = -0.3"
   ]
  },
  {
   "cell_type": "code",
   "execution_count": null,
   "metadata": {},
   "outputs": [],
   "source": [
    "def osc_parameters(m, k, b):\n",
    "    if b != 0:\n",
    "        tau0 = 2.*m/b\n",
    "        print(\"Decay time: \" + str(tau0))\n",
    "    f0 = (1/2.*np.pi)*np.sqrt(k/m)\n",
    "    print(\"Natural frequency: \" + str('%.3f' % f0))\n",
    "    fd = (1/2.*np.pi)*np.sqrt((k/m)*(1.-b*b/(4.*k*m)))\n",
    "    print(\"Oscillation frequency: \" + str('%.3f' % fd))\n",
    "\n",
    "def g(tau, m, k, b):\n",
    "    '''\n",
    "    Impulse response of a damped oscillator.\n",
    "    m = oscillator mass\n",
    "    k = elastic constant\n",
    "    b = attenuation factor\n",
    "    '''\n",
    "    f0 = (1/2.*np.pi)*np.sqrt(k/m)\n",
    "    fd = (1/2.*np.pi)*np.sqrt((k/m)*(1.-b*b/(4.*k*m)))\n",
    "    if b == 0:\n",
    "        e = 1\n",
    "    else:\n",
    "        tau0 = 2.*m/b\n",
    "        e = np.exp(tau/tau0)\n",
    "    return e*np.sin(2.*np.pi*fd*tau)"
   ]
  },
  {
   "cell_type": "markdown",
   "metadata": {},
   "source": [
    "## 2. Oscillator characteristics"
   ]
  },
  {
   "cell_type": "code",
   "execution_count": null,
   "metadata": {},
   "outputs": [],
   "source": [
    "osc_parameters(mass, k_const, attenuation)"
   ]
  },
  {
   "cell_type": "markdown",
   "metadata": {},
   "source": [
    "## 3. Calculate the transfer function from the impulse response"
   ]
  },
  {
   "cell_type": "code",
   "execution_count": null,
   "metadata": {},
   "outputs": [],
   "source": [
    "xtime = np.linspace(0,50,10240)\n",
    "y = g(xtime, mass, k_const, attenuation)"
   ]
  },
  {
   "cell_type": "code",
   "execution_count": null,
   "metadata": {},
   "outputs": [],
   "source": [
    "plt.plot(xtime, y)"
   ]
  },
  {
   "cell_type": "code",
   "execution_count": null,
   "metadata": {},
   "outputs": [],
   "source": [
    "from scipy.fft import fft, fftfreq"
   ]
  },
  {
   "cell_type": "code",
   "execution_count": null,
   "metadata": {},
   "outputs": [],
   "source": [
    "fftr = fft(y)\n",
    "\n",
    "freq = fftfreq(xtime.shape[-1], d=(xtime[-1]-xtime[0])/xtime.shape[-1])\n",
    "\n",
    "zero_freq = int(xtime.shape[-1]/2)\n",
    "\n",
    "max_index = 500\n",
    "if max_index > zero_freq: max_index = zero_freq\n",
    "\n",
    "plt.loglog(freq[0:max_index], abs(fftr)[0:max_index]/abs(fftr)[1])  # Normalized magnitude\n",
    "plt.show()\n",
    "\n",
    "phase_deg = np.arctan2(fftr.imag,fftr.real)[0:max_index]*180./np.pi\n",
    "plt.semilogx(freq[0:max_index], phase_deg, color=\"red\")  # Phase"
   ]
  },
  {
   "cell_type": "markdown",
   "metadata": {},
   "source": [
    "# Improve the FFT by using windowing"
   ]
  },
  {
   "cell_type": "code",
   "execution_count": null,
   "metadata": {},
   "outputs": [],
   "source": [
    "from scipy.signal import windows\n",
    "\n",
    "wind = windows.hann(len(y))\n",
    "yw = y*wind\n",
    "\n",
    "plt.plot(xtime, wind)\n",
    "\n",
    "plt.plot(xtime, yw)"
   ]
  },
  {
   "cell_type": "code",
   "execution_count": null,
   "metadata": {},
   "outputs": [],
   "source": [
    "fftr = fft(yw)\n",
    "\n",
    "freq = fftfreq(xtime.shape[-1], d=(xtime[-1]-xtime[0])/xtime.shape[-1])\n",
    "\n",
    "zero_freq = int(xtime.shape[-1]/2)\n",
    "\n",
    "max_index = 500\n",
    "if max_index > zero_freq: max_index = zero_freq\n",
    "\n",
    "plt.loglog(freq[0:max_index], abs(fftr)[0:max_index]/abs(fftr)[1])  # Normalized magnitude\n",
    "plt.show()\n",
    "\n",
    "phase_deg = np.arctan2(fftr.imag,fftr.real)[0:max_index]*180./np.pi\n",
    "plt.semilogx(freq[0:max_index], phase_deg, color=\"red\")  # Phase"
   ]
  },
  {
   "cell_type": "code",
   "execution_count": null,
   "metadata": {},
   "outputs": [],
   "source": [
    "# Numerical errors are still visible in the resonance region\n",
    "\n",
    "#plt.loglog(freq[30:50], fftr.imag[30:50], freq[30:50], fftr.real[30:50])\n",
    "plt.semilogx(freq[30:50], fftr.imag[30:50], freq[30:50], fftr.real[30:50])"
   ]
  },
  {
   "cell_type": "markdown",
   "metadata": {},
   "source": [
    "# Play with parameters to understand better the undelying mechanism!"
   ]
  },
  {
   "cell_type": "code",
   "execution_count": null,
   "metadata": {},
   "outputs": [],
   "source": []
  }
 ],
 "metadata": {
  "kernelspec": {
   "display_name": "Python [conda env:corsonde_phd] *",
   "language": "python",
   "name": "conda-env-corsonde_phd-py"
  },
  "language_info": {
   "codemirror_mode": {
    "name": "ipython",
    "version": 3
   },
   "file_extension": ".py",
   "mimetype": "text/x-python",
   "name": "python",
   "nbconvert_exporter": "python",
   "pygments_lexer": "ipython3",
   "version": "3.8.16"
  }
 },
 "nbformat": 4,
 "nbformat_minor": 4
}
