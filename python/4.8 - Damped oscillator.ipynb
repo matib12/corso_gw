{
 "cells": [
  {
   "cell_type": "markdown",
   "metadata": {},
   "source": [
    "# Damped oscillator\n",
    "\n",
    "Visualise the impulse response function of a damped oscillator."
   ]
  },
  {
   "cell_type": "code",
   "execution_count": null,
   "metadata": {},
   "outputs": [],
   "source": [
    "import numpy as np\n",
    "import matplotlib.pyplot as plt\n",
    "from scipy import signal"
   ]
  },
  {
   "cell_type": "markdown",
   "metadata": {},
   "source": [
    "## 1. Oscillator parameters:"
   ]
  },
  {
   "cell_type": "code",
   "execution_count": null,
   "metadata": {},
   "outputs": [],
   "source": [
    "mass = 1\n",
    "k_const = 0.1\n",
    "attenuation = -.2"
   ]
  },
  {
   "cell_type": "code",
   "execution_count": null,
   "metadata": {},
   "outputs": [],
   "source": [
    "def osc_parameters(m, k, b):\n",
    "    if b != 0:\n",
    "        tau0 = 2.*m/b\n",
    "        print(\"Decay time: \" + str(tau0))\n",
    "    f0 = (1/2.*np.pi)*np.sqrt(k/m)\n",
    "    print(\"Natural frequency: \" + str('%.3f' % f0))\n",
    "    fd = (1/2.*np.pi)*np.sqrt((k/m)*(1.-b*b/(4.*k*m)))\n",
    "    print(\"Oscillation frequency: \" + str('%.3f' % fd))\n",
    "\n",
    "def g(tau, m, k, b):\n",
    "    '''\n",
    "    Impulse response of a damped oscillator.\n",
    "    m = oscillator mass\n",
    "    k = elastic constant\n",
    "    b = attenuation factor\n",
    "    '''\n",
    "    f0 = (1/2.*np.pi)*np.sqrt(k/m)\n",
    "    fd = (1/2.*np.pi)*np.sqrt((k/m)*(1.-b*b/(4.*k*m)))\n",
    "    if b == 0:\n",
    "        e = 1\n",
    "    else:\n",
    "        tau0 = 2.*m/b\n",
    "        e = np.exp(tau/tau0)\n",
    "    return e*np.sin(2.*np.pi*fd*tau)"
   ]
  },
  {
   "cell_type": "markdown",
   "metadata": {},
   "source": [
    "## 2. Oscillator characteristics"
   ]
  },
  {
   "cell_type": "code",
   "execution_count": null,
   "metadata": {},
   "outputs": [],
   "source": [
    "osc_parameters(mass, k_const, attenuation)"
   ]
  },
  {
   "cell_type": "markdown",
   "metadata": {},
   "source": [
    "## 3. Impulse response\n",
    "\n",
    "* Search for 0 position in xtime array\n",
    "* Generate impulse at the zero position\n",
    "* Calculate impulse response"
   ]
  },
  {
   "cell_type": "code",
   "execution_count": null,
   "metadata": {},
   "outputs": [],
   "source": [
    "xtime = np.linspace(-5,50,1000)\n",
    "prev = 0\n",
    "for n, i in enumerate(xtime):\n",
    "    if i*prev<0:\n",
    "        # print(n) ## Print the impulse position in t\n",
    "        zero_cross_position = n\n",
    "    prev = i\n",
    "        \n",
    "inp = signal.unit_impulse(1000, zero_cross_position)\n",
    "y = g(xtime, mass, k_const, attenuation)\n",
    "\n",
    "y[0:zero_cross_position] = 0  # Cancel point before the excitation"
   ]
  },
  {
   "cell_type": "code",
   "execution_count": null,
   "metadata": {},
   "outputs": [],
   "source": [
    "plt.plot(xtime, inp)  # Plot input impulse\n",
    "plt.plot(xtime, y)    # Plot output response"
   ]
  },
  {
   "cell_type": "markdown",
   "metadata": {},
   "source": [
    "# Play with parameters to understand better the undelying mechanism!"
   ]
  },
  {
   "cell_type": "code",
   "execution_count": null,
   "metadata": {},
   "outputs": [],
   "source": []
  }
 ],
 "metadata": {
  "kernelspec": {
   "display_name": "Python [conda env:corsonde_phd] *",
   "language": "python",
   "name": "conda-env-corsonde_phd-py"
  },
  "language_info": {
   "codemirror_mode": {
    "name": "ipython",
    "version": 3
   },
   "file_extension": ".py",
   "mimetype": "text/x-python",
   "name": "python",
   "nbconvert_exporter": "python",
   "pygments_lexer": "ipython3",
   "version": "3.8.16"
  }
 },
 "nbformat": 4,
 "nbformat_minor": 4
}
