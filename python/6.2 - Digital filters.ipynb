{
 "cells": [
  {
   "cell_type": "code",
   "execution_count": null,
   "metadata": {},
   "outputs": [],
   "source": [
    "%matplotlib inline\n",
    "\n",
    "import numpy as np\n",
    "\n",
    "# Generate white noise timeseries for all filters\n",
    "# 10s of samples at 16,384kHz\n",
    "white = np.random.randn(10*16384)"
   ]
  },
  {
   "cell_type": "markdown",
   "metadata": {},
   "source": [
    "# Filters GWpy"
   ]
  },
  {
   "cell_type": "code",
   "execution_count": null,
   "metadata": {},
   "outputs": [],
   "source": [
    "from gwpy.timeseries import TimeSeries\n",
    "\n",
    "wh = TimeSeries(white, dt=1./16384.)\n",
    "\n",
    "wh.plot(title=\"Random timeseries\")\n",
    "wh.psd(3).plot(title=\"White noise\")"
   ]
  },
  {
   "cell_type": "markdown",
   "metadata": {},
   "source": [
    "## Low pass"
   ]
  },
  {
   "cell_type": "code",
   "execution_count": null,
   "metadata": {},
   "outputs": [],
   "source": [
    "wh.lowpass(250).psd(3).plot(title=\"Low\")"
   ]
  },
  {
   "cell_type": "markdown",
   "metadata": {},
   "source": [
    "## Low pass - decimate"
   ]
  },
  {
   "cell_type": "markdown",
   "metadata": {},
   "source": [
    "## High-pass"
   ]
  },
  {
   "cell_type": "code",
   "execution_count": null,
   "metadata": {},
   "outputs": [],
   "source": [
    "wh.highpass(50).psd(3).plot(title=\"High\")"
   ]
  },
  {
   "cell_type": "markdown",
   "metadata": {},
   "source": [
    "## Band-pass"
   ]
  },
  {
   "cell_type": "code",
   "execution_count": null,
   "metadata": {},
   "outputs": [],
   "source": [
    "wh.bandpass(50, 250).psd(3).plot(title=\"Band\")"
   ]
  },
  {
   "cell_type": "markdown",
   "metadata": {},
   "source": [
    "Band-pass filter may be construced by cascading low pass-filter and high-pass. Verify by comparing both power spectral densities."
   ]
  },
  {
   "cell_type": "code",
   "execution_count": null,
   "metadata": {},
   "outputs": [],
   "source": [
    "wh.highpass(50).lowpass(250).psd(3).plot(title=\"Low+High\")"
   ]
  },
  {
   "cell_type": "markdown",
   "metadata": {},
   "source": [
    "## Notch (band-stop)"
   ]
  },
  {
   "cell_type": "code",
   "execution_count": null,
   "metadata": {},
   "outputs": [],
   "source": [
    "wh.notch(60).psd(3).plot(title=\"Notch\")"
   ]
  },
  {
   "cell_type": "markdown",
   "metadata": {},
   "source": [
    "# Filters PyCBC"
   ]
  },
  {
   "cell_type": "code",
   "execution_count": null,
   "metadata": {},
   "outputs": [],
   "source": [
    "from pycbc.types import TimeSeries  # This TimeSeries substitutes the previous one.\n",
    "import pycbc.filter\n",
    "import pylab\n",
    "\n",
    "# Generate white noise timeseries\n",
    "# 10s of samples at 16,384kHz\n",
    "#white = np.random.randn(10*16384)\n",
    "wh = TimeSeries(white, delta_t=1./16384.)  # Notice: dt is no longer a valid argument.\n",
    "\n",
    "pylab.plot(wh.sample_times, wh)\n",
    "pylab.title(\"Random timeseries\")\n",
    "pylab.xlabel(\"Time [s]\")\n",
    "pylab.show()\n",
    "wh_psd = wh.psd(3)\n",
    "pylab.loglog(wh_psd.sample_frequencies, wh_psd)\n",
    "pylab.title(\"White noise\")\n",
    "pylab.xlabel(\"Frequency [Hz]\")"
   ]
  },
  {
   "cell_type": "markdown",
   "metadata": {},
   "source": [
    "## Low pass"
   ]
  },
  {
   "cell_type": "code",
   "execution_count": null,
   "metadata": {},
   "outputs": [],
   "source": [
    "lp = pycbc.filter.lowpass_fir(wh, 250., 8)\n",
    "lp_psd = lp.psd(3)\n",
    "pylab.loglog(lp_psd.sample_frequencies, lp_psd)"
   ]
  },
  {
   "cell_type": "markdown",
   "metadata": {},
   "source": [
    "## Low pass - decimate"
   ]
  },
  {
   "cell_type": "code",
   "execution_count": null,
   "metadata": {},
   "outputs": [],
   "source": [
    "# High frequencies are filtered because ther are no longer in the timeseries due to Nyquist theorem.\n",
    "\n",
    "lp = pycbc.filter.resample_to_delta_t(wh, 1.0/2048)  # Not every delta_t are supported\n",
    "lp_psd = lp.psd(3)\n",
    "pylab.loglog(lp_psd.sample_frequencies, lp_psd)"
   ]
  },
  {
   "cell_type": "markdown",
   "metadata": {},
   "source": [
    "## High-pass"
   ]
  },
  {
   "cell_type": "code",
   "execution_count": null,
   "metadata": {},
   "outputs": [],
   "source": [
    "# gwpy like filter\n",
    "\n",
    "hp = pycbc.filter.highpass(wh, 50.)\n",
    "hp_psd = hp.psd(3)\n",
    "pylab.loglog(hp_psd.sample_frequencies, hp_psd)"
   ]
  },
  {
   "cell_type": "code",
   "execution_count": null,
   "metadata": {},
   "outputs": [],
   "source": [
    "# FIR\n",
    "\n",
    "hp = pycbc.filter.highpass_fir(wh, 50., 512.0)\n",
    "hp_psd = hp.psd(3)\n",
    "pylab.loglog(hp_psd.sample_frequencies, hp_psd)"
   ]
  },
  {
   "cell_type": "markdown",
   "metadata": {},
   "source": [
    "## Band-pass"
   ]
  },
  {
   "cell_type": "code",
   "execution_count": null,
   "metadata": {},
   "outputs": [],
   "source": [
    "# In pycbc must be built with LP and HP."
   ]
  },
  {
   "cell_type": "markdown",
   "metadata": {},
   "source": [
    "## Notch (band-stop)"
   ]
  },
  {
   "cell_type": "code",
   "execution_count": null,
   "metadata": {},
   "outputs": [],
   "source": [
    "# FIR\n",
    "\n",
    "no = pycbc.filter.notch_fir(wh, 50., 60., 4096)  # Notice filter order!\n",
    "no_psd = no.psd(3)\n",
    "pylab.loglog(no_psd.sample_frequencies, no_psd)"
   ]
  },
  {
   "cell_type": "code",
   "execution_count": null,
   "metadata": {},
   "outputs": [],
   "source": []
  }
 ],
 "metadata": {
  "kernelspec": {
   "display_name": "Python [conda env:corsonde_phd] *",
   "language": "python",
   "name": "conda-env-corsonde_phd-py"
  },
  "language_info": {
   "codemirror_mode": {
    "name": "ipython",
    "version": 3
   },
   "file_extension": ".py",
   "mimetype": "text/x-python",
   "name": "python",
   "nbconvert_exporter": "python",
   "pygments_lexer": "ipython3",
   "version": "3.8.16"
  }
 },
 "nbformat": 4,
 "nbformat_minor": 4
}
