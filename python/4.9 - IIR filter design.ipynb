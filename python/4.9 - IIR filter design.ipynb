{
 "cells": [
  {
   "cell_type": "code",
   "execution_count": null,
   "id": "947f0648",
   "metadata": {},
   "outputs": [],
   "source": [
    "import numpy as np\n",
    "\n",
    "from scipy import signal\n",
    "\n",
    "import matplotlib.pyplot as plt"
   ]
  },
  {
   "cell_type": "markdown",
   "id": "3ca3f8fd",
   "metadata": {},
   "source": [
    "# Design filter with iirdesign() function\n",
    "\n",
    "**You know what the filter needs to do but you don't have preferences on its contruction.**"
   ]
  },
  {
   "cell_type": "code",
   "execution_count": null,
   "id": "7a3ef7f6",
   "metadata": {},
   "outputs": [],
   "source": [
    "help(signal.iirdesign)"
   ]
  },
  {
   "cell_type": "code",
   "execution_count": null,
   "id": "4f624b45",
   "metadata": {},
   "outputs": [],
   "source": [
    "z, p, k = signal.iirdesign(wp=1e3, ws=1.2e3, gpass=3, gstop=40, analog=True, ftype='ellip', output='zpk')"
   ]
  },
  {
   "cell_type": "code",
   "execution_count": null,
   "id": "504eb7c9",
   "metadata": {},
   "outputs": [],
   "source": [
    "print('Zeroes:')\n",
    "for i in z:\n",
    "    print(i)\n",
    "\n",
    "print('Poles:')\n",
    "for i in p:\n",
    "    print(i)\n",
    "    \n",
    "print('Gain: ', k)"
   ]
  },
  {
   "cell_type": "code",
   "execution_count": null,
   "id": "9a9bc4f6",
   "metadata": {},
   "outputs": [],
   "source": [
    "w, h = signal.freqs_zpk(z, p, k)"
   ]
  },
  {
   "cell_type": "code",
   "execution_count": null,
   "id": "694a252f",
   "metadata": {},
   "outputs": [],
   "source": [
    "plt.semilogx(w, 20 * np.log10(abs(h)))\n",
    "plt.xlabel('Frequency')\n",
    "plt.ylabel('Amplitude response [dB]')\n",
    "plt.grid()\n",
    "plt.show()"
   ]
  },
  {
   "cell_type": "markdown",
   "id": "3fa1d347",
   "metadata": {},
   "source": [
    "# Design filter with iirfilter() function\n",
    "\n",
    "**You know exaclty which parameters your filter needs to have.**"
   ]
  },
  {
   "cell_type": "code",
   "execution_count": null,
   "id": "fc670328",
   "metadata": {},
   "outputs": [],
   "source": [
    "help(signal.iirfilter)"
   ]
  },
  {
   "cell_type": "code",
   "execution_count": null,
   "id": "eb9f264a",
   "metadata": {},
   "outputs": [],
   "source": [
    "z2, p2, k2 = signal.iirfilter(N=5, Wn=[1e3], rp=3, rs=40, btype='lowpass', analog=True, ftype='ellip', output='zpk')"
   ]
  },
  {
   "cell_type": "code",
   "execution_count": null,
   "id": "5218e695",
   "metadata": {},
   "outputs": [],
   "source": [
    "print('Zeroes:')\n",
    "for i in z2:\n",
    "    print(i)\n",
    "\n",
    "print('Poles:')\n",
    "for i in p2:\n",
    "    print(i)\n",
    "    \n",
    "print('Gain: ', k)"
   ]
  },
  {
   "cell_type": "markdown",
   "id": "88469281",
   "metadata": {},
   "source": [
    "**Note that the result is exactly te same as for the iirdesign.**"
   ]
  },
  {
   "cell_type": "code",
   "execution_count": null,
   "id": "5e831e51",
   "metadata": {},
   "outputs": [],
   "source": [
    "w2, h2 = signal.freqs_zpk(z2, p2, k2)"
   ]
  },
  {
   "cell_type": "code",
   "execution_count": null,
   "id": "ece4db13",
   "metadata": {},
   "outputs": [],
   "source": [
    "plt.semilogx(w, 20 * np.log10(abs(h)), label='iirdesign')\n",
    "plt.semilogx(w2, 20 * np.log10(abs(h2)), label='iirfilter')\n",
    "plt.legend()\n",
    "plt.xlabel('Frequency')\n",
    "plt.ylabel('Amplitude response [dB]')\n",
    "plt.grid()\n",
    "plt.show()"
   ]
  },
  {
   "cell_type": "markdown",
   "id": "a23e2c43",
   "metadata": {},
   "source": [
    "# Use iirdesign() function and check the relation of the filter order to the requirements you set"
   ]
  },
  {
   "cell_type": "code",
   "execution_count": null,
   "id": "e5342c32",
   "metadata": {},
   "outputs": [],
   "source": [
    "z3, p3, k3 = signal.iirdesign(wp=0.8e3, ws=1.2e3, gpass=6, gstop=20, analog=True, ftype='ellip', output='zpk')\n",
    "\n",
    "w, h = signal.freqs_zpk(z3, p3, k3)\n",
    "\n",
    "plt.semilogx(w, 20 * np.log10(abs(h)))\n",
    "plt.xlabel('Frequency')\n",
    "plt.ylabel('Amplitude response [dB]')\n",
    "plt.grid()\n",
    "plt.show()\n",
    "\n",
    "print('Zeroes:')\n",
    "for i in z3:\n",
    "    print(i)\n",
    "\n",
    "print('Poles:')\n",
    "for i in p3:\n",
    "    print(i)\n",
    "    \n",
    "print('Gain: ', k3)"
   ]
  },
  {
   "cell_type": "markdown",
   "id": "568392b7",
   "metadata": {},
   "source": [
    "# Apply the filter to some data\n",
    "\n",
    "Watch out that the filter we designed is analogue. sosfilt() function we will use performs digital filtering. Use bilinear_zpk() transformation to obatin the right digital coefficients from their analogue form."
   ]
  },
  {
   "cell_type": "code",
   "execution_count": null,
   "id": "0ab63738",
   "metadata": {},
   "outputs": [],
   "source": [
    "data = np.random.random(4096)*0.1\n",
    "\n",
    "z3, p3, k3 = signal.bilinear_zpk(z3, p3, k3, 1e3)\n",
    "\n",
    "sos = signal.zpk2sos(z3, p3, k3, analog=True)\n",
    "\n",
    "zi = signal.sosfilt_zi(sos)\n",
    "\n",
    "filt_data, zi = signal.sosfilt(sos, data, zi=zi)"
   ]
  },
  {
   "cell_type": "code",
   "execution_count": null,
   "id": "04b91cc3",
   "metadata": {},
   "outputs": [],
   "source": [
    "print(filt_data.size)"
   ]
  },
  {
   "cell_type": "code",
   "execution_count": null,
   "id": "f03d8f4a",
   "metadata": {},
   "outputs": [],
   "source": [
    "plt.plot(data)\n",
    "plt.plot(filt_data)"
   ]
  },
  {
   "cell_type": "markdown",
   "id": "e1e5230c",
   "metadata": {},
   "source": [
    "# Check if the filter did it right"
   ]
  },
  {
   "cell_type": "code",
   "execution_count": null,
   "id": "ac609b40",
   "metadata": {},
   "outputs": [],
   "source": [
    "plt.psd(data)\n",
    "plt.psd(filt_data)"
   ]
  },
  {
   "cell_type": "code",
   "execution_count": null,
   "id": "38fca968",
   "metadata": {},
   "outputs": [],
   "source": []
  }
 ],
 "metadata": {
  "kernelspec": {
   "display_name": "Python [conda env:corsonde_phd] *",
   "language": "python",
   "name": "conda-env-corsonde_phd-py"
  },
  "language_info": {
   "codemirror_mode": {
    "name": "ipython",
    "version": 3
   },
   "file_extension": ".py",
   "mimetype": "text/x-python",
   "name": "python",
   "nbconvert_exporter": "python",
   "pygments_lexer": "ipython3",
   "version": "3.8.16"
  }
 },
 "nbformat": 4,
 "nbformat_minor": 5
}
