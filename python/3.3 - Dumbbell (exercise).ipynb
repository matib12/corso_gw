{
 "cells": [
  {
   "cell_type": "markdown",
   "metadata": {},
   "source": [
    "# Dumbbell (exercise)\n",
    "\n",
    "Calcola l'ampiezza della perturbazione della metrica dello spazio $h_{lab}$ nel laboratorio distante di $R = 300km$ da un'altro laboratorio dove onda viene generata grazie alla rotazione di un ipotetico manubrio composto da masse uguali $M=1000\\mathrm{kg}$. Considera il raggio del manubrio $r_0 = 1 \\mathrm{m}$ e la frequenza di rotazione $f_{rot} = 1\\mathrm{kHz}$\n",
    "\n",
    "Dati:\n",
    "\n",
    "$M=1000\\mathrm{kg}$\n",
    "\n",
    "$r_0 = 1 \\mathrm{m}$\n",
    "\n",
    "$R = 300\\mathrm{km}$\n",
    "\n",
    "$f_{rot} = 1\\mathrm{kHz}$"
   ]
  },
  {
   "cell_type": "code",
   "execution_count": null,
   "metadata": {},
   "outputs": [],
   "source": [
    "M_in_kg = 1000\n",
    "r0_in_m = 1\n",
    "R_in_m = 300e3 # 300km\n",
    "f_orb = 1e3  # 1kHz"
   ]
  },
  {
   "cell_type": "code",
   "execution_count": null,
   "metadata": {},
   "outputs": [],
   "source": [
    "# Numerical\n",
    "import numpy as np\n",
    "\n",
    "# Physical constants\n",
    "from scipy import constants"
   ]
  },
  {
   "cell_type": "markdown",
   "metadata": {},
   "source": [
    "Equation:\n",
    "\\begin{equation*}\n",
    "\\left| h_{xx} \\right| = \\frac{32\\pi^2 G}{Rc^4} M r_0^2 f_{orb}^2\n",
    "\\end{equation*}"
   ]
  },
  {
   "cell_type": "code",
   "execution_count": null,
   "metadata": {},
   "outputs": [],
   "source": []
  }
 ],
 "metadata": {
  "authors": [
   {
    "name": "Mateusz Bawaj"
   }
  ],
  "kernelspec": {
   "display_name": "Python [conda env:corsonde_phd] *",
   "language": "python",
   "name": "conda-env-corsonde_phd-py"
  },
  "language_info": {
   "codemirror_mode": {
    "name": "ipython",
    "version": 3
   },
   "file_extension": ".py",
   "mimetype": "text/x-python",
   "name": "python",
   "nbconvert_exporter": "python",
   "pygments_lexer": "ipython3",
   "version": "3.8.16"
  }
 },
 "nbformat": 4,
 "nbformat_minor": 2
}
