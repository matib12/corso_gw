{
 "cells": [
  {
   "cell_type": "markdown",
   "metadata": {},
   "source": [
    "# Discrete Fourier Transform\n",
    "\n",
    "When the function and its transfomation is in the discretized space, the Fourier transform takes its discrete counterparFourier transform (DFT). The DFT has become a mainstay of numerical computing in part because of a very fast algorithm for computing it, called the Fast Fourier Transform (FFT)\n",
    "\n",
    "This example shows how to perform an analysis using the FFT algorithm."
   ]
  },
  {
   "cell_type": "code",
   "execution_count": null,
   "metadata": {},
   "outputs": [],
   "source": [
    "#Import necessary libraries\n",
    "\n",
    "import numpy as np\n",
    "np.set_printoptions(precision=2, suppress=True)  # for compact output\n",
    "\n",
    "import matplotlib.pyplot as plt"
   ]
  },
  {
   "cell_type": "markdown",
   "metadata": {},
   "source": [
    "## 1. Generate a signal we want to analyse.\n",
    "\n",
    "We choose a sinusoidal signal at frequency <i>frequency</i> sampled 1024 times."
   ]
  },
  {
   "cell_type": "code",
   "execution_count": null,
   "metadata": {},
   "outputs": [],
   "source": [
    "time = np.linspace(0, 1, 1024)  # Generate 1024 time labels between 0 and 1 second.\n",
    "\n",
    "frequency = 16 # Hz\n",
    "signal = np.sin(2*np.pi*frequency*time)       # Generate 1024 samples of the sinusoidal signal. Element-wise\n",
    "\n",
    "plt.plot(time, signal)          # Plot the signal (Note: the frequency 16Hz)"
   ]
  },
  {
   "cell_type": "markdown",
   "metadata": {},
   "source": [
    "## 2. Generate noise we want to add to our signal\n",
    "\n",
    "We choose a random white noise. We need to generate an array of the same length"
   ]
  },
  {
   "cell_type": "code",
   "execution_count": null,
   "metadata": {},
   "outputs": [],
   "source": [
    "noise = np.random.rand(1024)  # Generate 1024 samples of random numbers between 0 and 1.\n",
    "\n",
    "plt.plot(time, noise)         # Plot the nosie"
   ]
  },
  {
   "cell_type": "markdown",
   "metadata": {},
   "source": [
    "## 3. Combine signal with noise\n",
    "\n",
    "Adjust noise power with respect to the signal!"
   ]
  },
  {
   "cell_type": "code",
   "execution_count": null,
   "metadata": {},
   "outputs": [],
   "source": [
    "noisy_signal = signal + .10*noise # Change between 0, 0.1 and 10\n",
    "\n",
    "plt.plot(time, noisy_signal)  # Plot the signal with the nosie"
   ]
  },
  {
   "cell_type": "markdown",
   "metadata": {},
   "source": [
    "# 4. Perform Fast Fourier Transform using function form the SciPy library and watch the result.\n",
    "\n",
    "The frequency term $f=k/n$ is found at $y[k]$. At $y[n/2]$ we reach the Nyquist frequency and wrap around to the negative-frequency terms. So, for an 8-point transform, the frequencies of the result are [0, 1, 2, 3, -4, -3, -2, -1]. To rearrange the fft output so that the zero-frequency component is centered, like [-4, -3, -2, -1, 0, 1, 2, 3], use fftshift."
   ]
  },
  {
   "cell_type": "code",
   "execution_count": null,
   "metadata": {},
   "outputs": [],
   "source": [
    "from scipy.fftpack import fft, fftfreq, fftshift\n",
    "\n",
    "fft = fft(noisy_signal,n=1024)\n",
    "\n",
    "plt.plot(fft.real)\n",
    "plt.plot(fft.imag)"
   ]
  },
  {
   "cell_type": "markdown",
   "metadata": {},
   "source": [
    "## 5. Change the fft output using fftshift."
   ]
  },
  {
   "cell_type": "code",
   "execution_count": null,
   "metadata": {},
   "outputs": [],
   "source": [
    "shifted_fft = fftshift(fft)\n",
    "freq = fftshift(fftfreq(time.shape[-1], d=time[-1]/time.shape[-1]))\n",
    "\n",
    "plt.plot(freq, abs(shifted_fft))"
   ]
  },
  {
   "cell_type": "code",
   "execution_count": null,
   "metadata": {},
   "outputs": [],
   "source": [
    "zero_freq = int(time.shape[-1]/2)\n",
    "plt.ylim(0,600)\n",
    "plt.plot(freq[zero_freq:zero_freq+50], abs(shifted_fft)[zero_freq:zero_freq+50])"
   ]
  },
  {
   "cell_type": "markdown",
   "metadata": {},
   "source": [
    "## 6. To see better the contribution of noise plot in the log scale"
   ]
  },
  {
   "cell_type": "code",
   "execution_count": null,
   "metadata": {},
   "outputs": [],
   "source": [
    "plt.semilogy(freq[zero_freq:zero_freq+50], abs(shifted_fft)[zero_freq:zero_freq+50])"
   ]
  },
  {
   "cell_type": "markdown",
   "metadata": {},
   "source": [
    "# Play with parameters to understand better the undelying mechanism!"
   ]
  },
  {
   "cell_type": "markdown",
   "metadata": {},
   "source": [
    "N.B. Negative frequencies in the FFT are exactly the same as the positive but their imaginary part has the opposite sign. This fact explains why we can multiply by factor 2 to obtain the right power estimation."
   ]
  },
  {
   "cell_type": "code",
   "execution_count": null,
   "metadata": {},
   "outputs": [],
   "source": [
    "plt.plot(np.flip(shifted_fft[0:zero_freq])[0:100].real, label=\"negative freq\")\n",
    "plt.plot(shifted_fft[zero_freq+1:][0:100].real, label=\"positive freq\")\n",
    "plt.title(\"FFT Real part\")\n",
    "plt.legend()\n",
    "plt.show()\n",
    "\n",
    "plt.ylim([-20,20])\n",
    "plt.plot(np.flip(shifted_fft[0:zero_freq])[0:100].imag, label=\"negative freq\")\n",
    "plt.plot(shifted_fft[zero_freq+1:][0:100].imag, label=\"positive freq\")\n",
    "plt.title(\"FFT Imaginary part\")\n",
    "plt.legend()\n",
    "plt.show()"
   ]
  },
  {
   "cell_type": "code",
   "execution_count": null,
   "metadata": {},
   "outputs": [],
   "source": []
  },
  {
   "cell_type": "code",
   "execution_count": null,
   "metadata": {},
   "outputs": [],
   "source": []
  }
 ],
 "metadata": {
  "authors": [
   {
    "name": "Mateusz Bawaj"
   }
  ],
  "kernelspec": {
   "display_name": "Python [conda env:corsonde_phd] *",
   "language": "python",
   "name": "conda-env-corsonde_phd-py"
  },
  "language_info": {
   "codemirror_mode": {
    "name": "ipython",
    "version": 3
   },
   "file_extension": ".py",
   "mimetype": "text/x-python",
   "name": "python",
   "nbconvert_exporter": "python",
   "pygments_lexer": "ipython3",
   "version": "3.8.16"
  }
 },
 "nbformat": 4,
 "nbformat_minor": 4
}
