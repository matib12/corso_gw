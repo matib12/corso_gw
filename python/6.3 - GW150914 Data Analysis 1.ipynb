{
 "cells": [
  {
   "cell_type": "markdown",
   "metadata": {},
   "source": [
    "# Data analysis of GW150914\n",
    "\n",
    "Download calibrated data timeseries from LIGO Hanford and Livingston observatories using gwpy."
   ]
  },
  {
   "cell_type": "code",
   "execution_count": null,
   "metadata": {},
   "outputs": [],
   "source": [
    "from gwpy.timeseries import TimeSeries\n",
    "h1 = TimeSeries.fetch_open_data('H1', 1126259457, 1126259467)\n",
    "l1 = TimeSeries.fetch_open_data('L1', 1126259457, 1126259467)"
   ]
  },
  {
   "cell_type": "markdown",
   "metadata": {},
   "source": [
    "## 1. Print the raw data"
   ]
  },
  {
   "cell_type": "code",
   "execution_count": null,
   "metadata": {},
   "outputs": [],
   "source": [
    "from gwpy.plot import Plot\n",
    "%matplotlib inline\n",
    "plot = Plot(figsize=(12, 4))\n",
    "ax = plot.gca()\n",
    "ax.set_xscale('auto-gps')\n",
    "ax.plot(h1, color='gwpy:ligo-hanford', label='LIGO-Hanford')\n",
    "ax.plot(l1, color='gwpy:ligo-livingston', label='LIGO-Livingston')\n",
    "ax.set_epoch(1126259462.427)\n",
    "ax.set_ylabel('Strain noise')\n",
    "ax.legend()\n",
    "plot.show()"
   ]
  },
  {
   "cell_type": "markdown",
   "metadata": {},
   "source": [
    "## 2. Analyse the data from both observatories in the frequency domain."
   ]
  },
  {
   "cell_type": "code",
   "execution_count": null,
   "metadata": {},
   "outputs": [],
   "source": [
    "h1_asd = h1.asd(method='scipy_welch')\n",
    "l1_asd = l1.asd(method='scipy_welch')\n",
    "\n",
    "plot = Plot(figsize=(12, 4))\n",
    "ax = plot.gca()\n",
    "ax.set_xscale('auto-gps')\n",
    "ax.plot(h1_asd, color='gwpy:ligo-hanford', label='LIGO-Hanford')\n",
    "ax.plot(l1_asd, color='gwpy:ligo-livingston', label='LIGO-Livingston')\n",
    "ax.set_ylabel('Strain noise ASD')\n",
    "ax.set_xlim(1, 2000)\n",
    "ax.set_xscale('log')\n",
    "ax.set_yscale('log')\n",
    "ax.legend()\n",
    "plot.show()"
   ]
  },
  {
   "cell_type": "markdown",
   "metadata": {},
   "source": [
    "## 3. Using data from Hanford, select only the interesting part of the spectra.\n",
    "\n",
    "The corresponding frequency band to the expected GW signal lays between 50Hz and 250Hz.\n",
    "\n",
    "Plot the filtered signal."
   ]
  },
  {
   "cell_type": "code",
   "execution_count": null,
   "metadata": {},
   "outputs": [],
   "source": [
    "h1_BP = h1.bandpass(50, 250)\n",
    "\n",
    "plot = Plot(figsize=(12, 4))\n",
    "ax = plot.gca()\n",
    "ax.set_xscale('auto-gps')\n",
    "ax.plot(h1, color='gwpy:ligo-hanford', label='LIGO-Hanford')\n",
    "ax.plot(h1_BP, color='green', label='LIGO-Hanford 50 to 250Hz')\n",
    "ax.set_epoch(1126259462.427)\n",
    "ax.set_ylabel('Strain noise')\n",
    "ax.legend()\n",
    "plot.show()"
   ]
  },
  {
   "cell_type": "markdown",
   "metadata": {},
   "source": [
    "## 4. Compare the raw data amplitude spectral density with the filtered signal ASD.\n",
    "\n",
    "As in the time domain, the most excess of noise was removed. You can see the two noise peaks in the band from 50 to 250Hz. It is a contribution form the power supply network (In USA 60Hz, in Europe 50Hz)."
   ]
  },
  {
   "cell_type": "code",
   "execution_count": null,
   "metadata": {},
   "outputs": [],
   "source": [
    "h1_BP_asd = h1_BP.asd(method='scipy_welch')\n",
    "\n",
    "plot = Plot(figsize=(12, 4))\n",
    "ax = plot.gca()\n",
    "ax.set_xscale('auto-gps')\n",
    "ax.plot(h1_asd, color='gwpy:ligo-hanford', label='LIGO-Hanford')\n",
    "ax.plot(h1_BP_asd, color='green', label='LIGO-Hanford 50 to 250Hz')\n",
    "ax.set_ylabel('Strain noise ASD')\n",
    "ax.set_xlim(1, 2000)\n",
    "ax.set_xscale('log')\n",
    "ax.set_yscale('log')\n",
    "ax.legend()\n",
    "plot.show()"
   ]
  },
  {
   "cell_type": "markdown",
   "metadata": {},
   "source": [
    "## 5. Remove 60Hz contribution comming form the power network and its first harmonic frequency."
   ]
  },
  {
   "cell_type": "code",
   "execution_count": null,
   "metadata": {},
   "outputs": [],
   "source": [
    "h1b = h1_BP.notch(60).notch(120)\n",
    "h1b_asd = h1b.asd(method='scipy_welch')\n",
    "\n",
    "plot = Plot(figsize=(12, 4))\n",
    "ax = plot.gca()\n",
    "ax.set_xscale('auto-gps')\n",
    "ax.plot(h1_asd, color='gwpy:ligo-hanford', label='LIGO-Hanford')\n",
    "ax.plot(h1b_asd, color='green', label='LIGO-Hanford 50 to 250Hz')\n",
    "ax.set_ylabel('Strain noise ASD')\n",
    "ax.set_xlim(1, 2000)\n",
    "ax.set_xscale('log')\n",
    "ax.set_yscale('log')\n",
    "ax.legend()\n",
    "plot.show()"
   ]
  },
  {
   "cell_type": "markdown",
   "metadata": {},
   "source": [
    "## 6. Try to find the gravitational signal by eye.\n",
    "\n",
    "High noise level at the begining and at the end of the time series is due to the filtering precedure."
   ]
  },
  {
   "cell_type": "code",
   "execution_count": null,
   "metadata": {},
   "outputs": [],
   "source": [
    "l1b = l1.bandpass(50,250).notch(60).notch(120)\n",
    "\n",
    "plot = Plot(figsize=(12, 4))\n",
    "ax = plot.gca()\n",
    "ax.set_xscale('auto-gps')\n",
    "ax.plot(h1b, color='gwpy:ligo-hanford', label='LIGO-Hanford')\n",
    "ax.plot(l1b, color='gwpy:ligo-livingston', label='LIGO-Livingston')\n",
    "ax.set_epoch(1126259462.427)\n",
    "ax.set_ylim(-1e-21, 1e-21)\n",
    "ax.set_ylabel('Strain noise')\n",
    "ax.legend()\n",
    "plot.show()"
   ]
  },
  {
   "cell_type": "markdown",
   "metadata": {},
   "source": [
    "## 7. In the scientific way we must use a template."
   ]
  },
  {
   "cell_type": "code",
   "execution_count": null,
   "metadata": {},
   "outputs": [],
   "source": []
  }
 ],
 "metadata": {
  "kernelspec": {
   "display_name": "Python [conda env:corsonde_phd] *",
   "language": "python",
   "name": "conda-env-corsonde_phd-py"
  },
  "language_info": {
   "codemirror_mode": {
    "name": "ipython",
    "version": 3
   },
   "file_extension": ".py",
   "mimetype": "text/x-python",
   "name": "python",
   "nbconvert_exporter": "python",
   "pygments_lexer": "ipython3",
   "version": "3.8.16"
  }
 },
 "nbformat": 4,
 "nbformat_minor": 4
}
