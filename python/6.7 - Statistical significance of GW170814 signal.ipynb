{
 "cells": [
  {
   "cell_type": "markdown",
   "metadata": {},
   "source": [
    "# Statistical significance of GW170814 signal\n",
    "GW170814 event was observed by all interferometers.\n",
    "\n",
    "## 1. Prepare the data.\n",
    "\n",
    "<p>Download datastream from the public catalog.</p>\n",
    "\n",
    "<p> Filter out the low-frequency contribution and remove the high-frequency. Instead of using a filter remove high-frequency components by resampling the timeseries. If needed check excercise \"17-Template fit and q-transform\" and follow data conditioning part.</p>"
   ]
  },
  {
   "cell_type": "code",
   "execution_count": null,
   "metadata": {},
   "outputs": [],
   "source": [
    "%matplotlib inline\n",
    "\n",
    "import pylab\n",
    "from pycbc.filter import resample_to_delta_t, highpass\n",
    "from pycbc.catalog import Merger\n",
    "from pycbc.psd import interpolate, inverse_spectrum_truncation\n",
    "\n",
    "m = Merger(\"GW170814\")\n",
    "\n",
    "ifos = ['H1', 'L1', 'V1']\n",
    "data = {}  # We need to \"alocate\" variable name to use in the for loop\n",
    "psd = {}\n",
    "\n",
    "pylab.figure(figsize=[10, 5])\n",
    "\n",
    "for ifo in ifos:\n",
    "    # Read in and precondition the data\n",
    "    ts = m.strain(ifo).highpass_fir(15, 512)\n",
    "    data[ifo] = resample_to_delta_t(ts, 1.0/2048).crop(2, 2)  # Low-pass and crop\n",
    "\n",
    "    # Estimate the power spectral density of the data\n",
    "    # This chooses to use 4s samples in the PSD estimate.\n",
    "    # One should note that the tradeoff in segment length is that\n",
    "    # resolving narrow lines becomes more difficult.\n",
    "    p = data[ifo].psd(4)\n",
    "    p = interpolate(p, data[ifo].delta_f)\n",
    "    p = inverse_spectrum_truncation(p, int(4 * data[ifo].sample_rate), low_frequency_cutoff=20.0)\n",
    "    psd[ifo] = p\n",
    "    \n",
    "    pylab.plot(psd[ifo].sample_frequencies, psd[ifo], label=ifo)\n",
    "\n",
    "pylab.yscale('log')\n",
    "pylab.xscale('log')\n",
    "pylab.ylim(1e-47, 1e-41)\n",
    "pylab.xlim(20, 1024)\n",
    "pylab.ylabel('$Strain^2 / Hz$')\n",
    "pylab.xlabel('Frequency (Hz)')\n",
    "pylab.grid()\n",
    "pylab.legend()\n",
    "pylab.show()"
   ]
  },
  {
   "cell_type": "markdown",
   "metadata": {},
   "source": [
    "## 2. Generate the template and calculate the SNR."
   ]
  },
  {
   "cell_type": "code",
   "execution_count": null,
   "metadata": {},
   "outputs": [],
   "source": [
    "from pycbc.waveform import get_fd_waveform\n",
    "from pycbc.filter import matched_filter\n",
    "from pycbc.conversions import mass1_from_mchirp_q\n",
    "\n",
    "# Calculate the component mass of each black hole in the detector frame\n",
    "# http://pycbc.org/pycbc/latest/html/_modules/pycbc/catalog.html#Merger.median1d\n",
    "mchirp= m.median1d(\"mchirp\") # This is in the source frame\n",
    "zfac = (1 + m.median1d(\"redshift\")) # apply redshift to get to the detector frame\n",
    "mchirp *= zfac\n",
    "mass1 = mass2 = mass1_from_mchirp_q(mchirp, 1)\n",
    "\n",
    "# This is a frequency domain waveform generator.\n",
    "# Compare with get_td_waveform() in excercise \"17-Template fit and q-transform\"\n",
    "# This function returns both a plus and a cross\n",
    "# polarization waveform, but we will just use the plus polarization in building our template\n",
    "# as these are only different by a phase offset in this specific case.\n",
    "hp, _ = get_fd_waveform(approximant=\"IMRPhenomD\",\n",
    "                        mass1=mass1, mass2=mass2,\n",
    "                        f_lower=20.0, delta_f=data[ifo].delta_f)\n",
    "hp.resize(len(psd[ifo]))\n",
    "\n",
    "# For each observatory use this template to calculate the SNR time series\n",
    "snr = {}\n",
    "for ifo in ifos:\n",
    "    snr[ifo] = matched_filter(hp, data[ifo], psd=psd[ifo], low_frequency_cutoff=25)\n",
    "    snr[ifo] = snr[ifo].crop(5, 4)"
   ]
  },
  {
   "cell_type": "markdown",
   "metadata": {},
   "source": [
    "Check median1d function"
   ]
  },
  {
   "cell_type": "markdown",
   "metadata": {},
   "source": [
    "## Plot all data and zoom around the event"
   ]
  },
  {
   "cell_type": "code",
   "execution_count": null,
   "metadata": {},
   "outputs": [],
   "source": [
    "# Show a couple sizes\n",
    "for w, title in [(7, 'Wide View'), (.15, 'Close to GW170814')]:\n",
    "    pylab.figure(figsize=[14, 4])\n",
    "    for ifo in ifos:\n",
    "        pylab.plot(snr[ifo].sample_times, abs(snr[ifo]), label=ifo)\n",
    "\n",
    "    pylab.legend()\n",
    "    pylab.title(title)\n",
    "    pylab.grid()\n",
    "    pylab.xlim(m.time - w, m.time + w)\n",
    "    pylab.ylim(0, 15)\n",
    "    pylab.xlabel('Time (s)')\n",
    "    pylab.ylabel('Signal-to-noise (SNR)')\n",
    "    pylab.show()"
   ]
  },
  {
   "cell_type": "markdown",
   "metadata": {},
   "source": [
    "## 3. Calculate peak significance.\n",
    "\n",
    "Use $\\chi^2$ method and calculate the significance for signal from all observatories."
   ]
  },
  {
   "cell_type": "code",
   "execution_count": null,
   "metadata": {},
   "outputs": [],
   "source": [
    "from pycbc.vetoes import power_chisq\n",
    "chisq = {}\n",
    "for ifo in ifos:\n",
    "    # The number of bins to use. In principle, this choice is arbitrary. In practice,\n",
    "    # this is empirically tuned.\n",
    "    nbins = 26\n",
    "    chisq[ifo] = power_chisq(hp, data[ifo], nbins, psd[ifo], low_frequency_cutoff=20.0)\n",
    "    chisq[ifo] = chisq[ifo].crop(5, 4)\n",
    "    \n",
    "    dof = nbins * 2 - 2\n",
    "    chisq[ifo] /= dof"
   ]
  },
  {
   "cell_type": "markdown",
   "metadata": {},
   "source": [
    "Plot the normalized $\\chi^2$."
   ]
  },
  {
   "cell_type": "code",
   "execution_count": null,
   "metadata": {},
   "outputs": [],
   "source": [
    "pylab.figure(figsize=[14, 4])\n",
    "\n",
    "for ifo in ifos:\n",
    "    pylab.plot(chisq[ifo].sample_times, chisq[ifo], label=ifo)\n",
    "    \n",
    "pylab.legend()\n",
    "pylab.grid()\n",
    "pylab.xlim(m.time -0.15, m.time + 0.15)\n",
    "pylab.ylim(0, 5)\n",
    "pylab.ylabel('$chi^2_r$')\n",
    "pylab.show()"
   ]
  },
  {
   "cell_type": "code",
   "execution_count": null,
   "metadata": {},
   "outputs": [],
   "source": []
  }
 ],
 "metadata": {
  "kernelspec": {
   "display_name": "Python [conda env:corsonde_phd] *",
   "language": "python",
   "name": "conda-env-corsonde_phd-py"
  },
  "language_info": {
   "codemirror_mode": {
    "name": "ipython",
    "version": 3
   },
   "file_extension": ".py",
   "mimetype": "text/x-python",
   "name": "python",
   "nbconvert_exporter": "python",
   "pygments_lexer": "ipython3",
   "version": "3.8.16"
  }
 },
 "nbformat": 4,
 "nbformat_minor": 4
}
