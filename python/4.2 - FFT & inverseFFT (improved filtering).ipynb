{
 "cells": [
  {
   "cell_type": "code",
   "execution_count": null,
   "id": "34be52e1",
   "metadata": {},
   "outputs": [],
   "source": [
    "import numpy as np\n",
    "import matplotlib.pyplot as plt\n",
    "\n",
    "from scipy.fft import fft, ifft"
   ]
  },
  {
   "cell_type": "markdown",
   "id": "aae8fb21",
   "metadata": {},
   "source": [
    "# Prepare a signal containing two frequencies."
   ]
  },
  {
   "cell_type": "code",
   "execution_count": null,
   "id": "8c02718b",
   "metadata": {},
   "outputs": [],
   "source": [
    "N = 512                     # Number of samples\n",
    "Fs = 1000                   # Sampling frequency\n",
    "Vrms = 0.7071               # Vrms\n",
    "Vmax = np.sqrt(2.)*Vrms     # Conversion to amplitude\n",
    "\n",
    "time = np.linspace(0, N/Fs, N)  # Generate 1024 time labels between 0 and 1 second.\n",
    "\n",
    "frequency1 = 100 # Hz\n",
    "frequency2 = 16  # Hz\n",
    "\n",
    "signal_f1 = Vmax * np.sin(2*np.pi*frequency1*time)\n",
    "signal_f2 = Vmax*np.sin(2*np.pi*frequency2*time)\n",
    "our_signal = signal_f1 + signal_f2       # Generate 1024 samples of the sinusoidal signal.\n",
    "\n",
    "plt.plot(time, signal_f1)       # Plot the signal (Note: the frequency 16Hz)\n",
    "plt.plot(time, signal_f2)       # Plot the signal (Note: the frequency 16Hz)\n",
    "plt.plot(time, our_signal)       # Plot the signal (Note: the frequency 16Hz)"
   ]
  },
  {
   "cell_type": "markdown",
   "id": "ee0c4414",
   "metadata": {},
   "source": [
    "# Perform an FFT of the signal."
   ]
  },
  {
   "cell_type": "code",
   "execution_count": null,
   "id": "70b73765",
   "metadata": {},
   "outputs": [],
   "source": [
    "fft_data = fft(our_signal,n=N)\n",
    "\n",
    "plt.plot(fft_data.real, label='Real')\n",
    "plt.plot(fft_data.imag, label='Imag')\n",
    "plt.legend()"
   ]
  },
  {
   "cell_type": "markdown",
   "id": "24cc4a96",
   "metadata": {},
   "source": [
    "# Perform an inverse FFT of the transformed signal and compare to the original data."
   ]
  },
  {
   "cell_type": "code",
   "execution_count": null,
   "id": "f0712aa5",
   "metadata": {},
   "outputs": [],
   "source": [
    "ifft_data = ifft(fft_data, n=N)\n",
    "\n",
    "plt.plot(ifft_data.real-our_signal)"
   ]
  },
  {
   "cell_type": "markdown",
   "id": "9738792b",
   "metadata": {},
   "source": [
    "N.B. Small deviations from zero are the numerical errors."
   ]
  },
  {
   "cell_type": "markdown",
   "id": "e31fdbe9",
   "metadata": {},
   "source": [
    "# Optimized naive filter test"
   ]
  },
  {
   "cell_type": "code",
   "execution_count": null,
   "id": "d0b3ca8b",
   "metadata": {},
   "outputs": [],
   "source": [
    "def sigm(x, slope=1.):\n",
    "    return 1./(1. + np.exp(-x*slope))"
   ]
  },
  {
   "cell_type": "code",
   "execution_count": null,
   "id": "40075b70",
   "metadata": {},
   "outputs": [],
   "source": [
    "offset = 208/int(N/2.)\n",
    "print(offset)\n",
    "filt = sigm(np.linspace(-10,10,num=int(N/2.)) - 10*offset, slope=4.)"
   ]
  },
  {
   "cell_type": "code",
   "execution_count": null,
   "id": "f59aaabb",
   "metadata": {},
   "outputs": [],
   "source": [
    "a = np.concatenate((filt[::-1], filt))\n",
    "\n",
    "plt.plot(a)"
   ]
  },
  {
   "cell_type": "code",
   "execution_count": null,
   "id": "4ffc6fa8",
   "metadata": {},
   "outputs": [],
   "source": [
    "filtered_f = fft_data * a"
   ]
  },
  {
   "cell_type": "code",
   "execution_count": null,
   "id": "d991f73d",
   "metadata": {},
   "outputs": [],
   "source": [
    "plt.plot(filtered_f.real, label='Real')\n",
    "plt.plot(filtered_f.imag, label='Imag')\n",
    "plt.legend()"
   ]
  },
  {
   "cell_type": "code",
   "execution_count": null,
   "id": "971253b3",
   "metadata": {},
   "outputs": [],
   "source": [
    "filtered_t = ifft(filtered_f, n=N)"
   ]
  },
  {
   "cell_type": "code",
   "execution_count": null,
   "id": "630cebd4",
   "metadata": {},
   "outputs": [],
   "source": [
    "plt.plot(filtered_t.real, label='Filtered')\n",
    "plt.plot(filtered_t.real-signal_f2, label='Filtered minus original')\n",
    "plt.legend()"
   ]
  },
  {
   "cell_type": "code",
   "execution_count": null,
   "id": "602ba8a3",
   "metadata": {},
   "outputs": [],
   "source": []
  },
  {
   "cell_type": "code",
   "execution_count": null,
   "id": "c8a11823",
   "metadata": {},
   "outputs": [],
   "source": []
  }
 ],
 "metadata": {
  "kernelspec": {
   "display_name": "Python [conda env:corsonde_phd] *",
   "language": "python",
   "name": "conda-env-corsonde_phd-py"
  },
  "language_info": {
   "codemirror_mode": {
    "name": "ipython",
    "version": 3
   },
   "file_extension": ".py",
   "mimetype": "text/x-python",
   "name": "python",
   "nbconvert_exporter": "python",
   "pygments_lexer": "ipython3",
   "version": "3.8.16"
  }
 },
 "nbformat": 4,
 "nbformat_minor": 5
}
